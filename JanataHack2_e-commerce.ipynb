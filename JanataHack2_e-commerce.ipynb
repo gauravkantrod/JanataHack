{
 "cells": [
  {
   "cell_type": "code",
   "execution_count": 29,
   "metadata": {},
   "outputs": [],
   "source": [
    "import pandas as pd\n",
    "import numpy as np\n",
    "import matplotlib.pyplot as plt\n",
    "%matplotlib inline"
   ]
  },
  {
   "cell_type": "code",
   "execution_count": 30,
   "metadata": {},
   "outputs": [],
   "source": [
    "import collections"
   ]
  },
  {
   "cell_type": "code",
   "execution_count": 134,
   "metadata": {},
   "outputs": [],
   "source": [
    "from sklearn.linear_model import LogisticRegression, LogisticRegressionCV\n",
    "from sklearn.model_selection import train_test_split\n",
    "from sklearn.ensemble import RandomForestClassifier\n",
    "from sklearn.model_selection import RandomizedSearchCV\n",
    "from xgboost import XGBClassifier"
   ]
  },
  {
   "cell_type": "code",
   "execution_count": 32,
   "metadata": {},
   "outputs": [],
   "source": [
    "from sklearn.metrics import accuracy_score, precision_score, roc_curve, roc_auc_score, confusion_matrix,\\\n",
    "recall_score"
   ]
  },
  {
   "cell_type": "code",
   "execution_count": 33,
   "metadata": {},
   "outputs": [],
   "source": [
    "from sklearn.preprocessing import StandardScaler"
   ]
  },
  {
   "cell_type": "code",
   "execution_count": 34,
   "metadata": {},
   "outputs": [],
   "source": [
    "import datetime"
   ]
  },
  {
   "cell_type": "code",
   "execution_count": 35,
   "metadata": {},
   "outputs": [],
   "source": [
    "import time"
   ]
  },
  {
   "cell_type": "code",
   "execution_count": 36,
   "metadata": {},
   "outputs": [],
   "source": [
    "pd.options.display.max_colwidth = 100"
   ]
  },
  {
   "cell_type": "code",
   "execution_count": 37,
   "metadata": {},
   "outputs": [],
   "source": [
    "df = pd.read_csv('train_janatahack2.csv')"
   ]
  },
  {
   "cell_type": "code",
   "execution_count": 38,
   "metadata": {},
   "outputs": [],
   "source": [
    "df_test = pd.read_csv('test_janatahack2.csv') "
   ]
  },
  {
   "cell_type": "code",
   "execution_count": 39,
   "metadata": {},
   "outputs": [
    {
     "data": {
      "text/html": [
       "<div>\n",
       "<style scoped>\n",
       "    .dataframe tbody tr th:only-of-type {\n",
       "        vertical-align: middle;\n",
       "    }\n",
       "\n",
       "    .dataframe tbody tr th {\n",
       "        vertical-align: top;\n",
       "    }\n",
       "\n",
       "    .dataframe thead th {\n",
       "        text-align: right;\n",
       "    }\n",
       "</style>\n",
       "<table border=\"1\" class=\"dataframe\">\n",
       "  <thead>\n",
       "    <tr style=\"text-align: right;\">\n",
       "      <th></th>\n",
       "      <th>session_id</th>\n",
       "      <th>startTime</th>\n",
       "      <th>endTime</th>\n",
       "      <th>ProductList</th>\n",
       "      <th>gender</th>\n",
       "    </tr>\n",
       "  </thead>\n",
       "  <tbody>\n",
       "    <tr>\n",
       "      <th>0</th>\n",
       "      <td>u16159</td>\n",
       "      <td>15/12/14 18:11</td>\n",
       "      <td>15/12/14 18:12</td>\n",
       "      <td>A00002/B00003/C00006/D28435/;A00002/B00003/C00006/D02554/;A00002/B00003/C00006/D28436/;A00002/B0...</td>\n",
       "      <td>female</td>\n",
       "    </tr>\n",
       "    <tr>\n",
       "      <th>1</th>\n",
       "      <td>u10253</td>\n",
       "      <td>16/12/14 14:35</td>\n",
       "      <td>16/12/14 14:41</td>\n",
       "      <td>A00001/B00009/C00031/D29404/;A00001/B00009/C00031/D02617/;A00001/B00009/C00031/D29407/;A00001/B0...</td>\n",
       "      <td>male</td>\n",
       "    </tr>\n",
       "    <tr>\n",
       "      <th>2</th>\n",
       "      <td>u19037</td>\n",
       "      <td>01/12/14 15:58</td>\n",
       "      <td>01/12/14 15:58</td>\n",
       "      <td>A00002/B00001/C00020/D16944/</td>\n",
       "      <td>female</td>\n",
       "    </tr>\n",
       "    <tr>\n",
       "      <th>3</th>\n",
       "      <td>u14556</td>\n",
       "      <td>23/11/14 2:57</td>\n",
       "      <td>23/11/14 3:00</td>\n",
       "      <td>A00002/B00004/C00018/D10284/;A00002/B00004/C00018/D10285/;A00002/B00004/C00018/D10286/</td>\n",
       "      <td>female</td>\n",
       "    </tr>\n",
       "    <tr>\n",
       "      <th>4</th>\n",
       "      <td>u24295</td>\n",
       "      <td>17/12/14 16:44</td>\n",
       "      <td>17/12/14 16:46</td>\n",
       "      <td>A00001/B00001/C00012/D30805/;A00001/B00001/C00012/D30806/</td>\n",
       "      <td>male</td>\n",
       "    </tr>\n",
       "  </tbody>\n",
       "</table>\n",
       "</div>"
      ],
      "text/plain": [
       "  session_id       startTime         endTime  \\\n",
       "0     u16159  15/12/14 18:11  15/12/14 18:12   \n",
       "1     u10253  16/12/14 14:35  16/12/14 14:41   \n",
       "2     u19037  01/12/14 15:58  01/12/14 15:58   \n",
       "3     u14556   23/11/14 2:57   23/11/14 3:00   \n",
       "4     u24295  17/12/14 16:44  17/12/14 16:46   \n",
       "\n",
       "                                                                                           ProductList  \\\n",
       "0  A00002/B00003/C00006/D28435/;A00002/B00003/C00006/D02554/;A00002/B00003/C00006/D28436/;A00002/B0...   \n",
       "1  A00001/B00009/C00031/D29404/;A00001/B00009/C00031/D02617/;A00001/B00009/C00031/D29407/;A00001/B0...   \n",
       "2                                                                         A00002/B00001/C00020/D16944/   \n",
       "3               A00002/B00004/C00018/D10284/;A00002/B00004/C00018/D10285/;A00002/B00004/C00018/D10286/   \n",
       "4                                            A00001/B00001/C00012/D30805/;A00001/B00001/C00012/D30806/   \n",
       "\n",
       "   gender  \n",
       "0  female  \n",
       "1    male  \n",
       "2  female  \n",
       "3  female  \n",
       "4    male  "
      ]
     },
     "execution_count": 39,
     "metadata": {},
     "output_type": "execute_result"
    }
   ],
   "source": [
    "df.head()"
   ]
  },
  {
   "cell_type": "code",
   "execution_count": 40,
   "metadata": {},
   "outputs": [
    {
     "data": {
      "text/plain": [
       "session_id     0\n",
       "startTime      0\n",
       "endTime        0\n",
       "ProductList    0\n",
       "gender         0\n",
       "dtype: int64"
      ]
     },
     "execution_count": 40,
     "metadata": {},
     "output_type": "execute_result"
    }
   ],
   "source": [
    "df.isnull().sum()"
   ]
  },
  {
   "cell_type": "code",
   "execution_count": 41,
   "metadata": {},
   "outputs": [
    {
     "data": {
      "text/html": [
       "<div>\n",
       "<style scoped>\n",
       "    .dataframe tbody tr th:only-of-type {\n",
       "        vertical-align: middle;\n",
       "    }\n",
       "\n",
       "    .dataframe tbody tr th {\n",
       "        vertical-align: top;\n",
       "    }\n",
       "\n",
       "    .dataframe thead th {\n",
       "        text-align: right;\n",
       "    }\n",
       "</style>\n",
       "<table border=\"1\" class=\"dataframe\">\n",
       "  <thead>\n",
       "    <tr style=\"text-align: right;\">\n",
       "      <th></th>\n",
       "      <th>session_id</th>\n",
       "      <th>startTime</th>\n",
       "      <th>endTime</th>\n",
       "      <th>ProductList</th>\n",
       "      <th>gender</th>\n",
       "    </tr>\n",
       "  </thead>\n",
       "  <tbody>\n",
       "    <tr>\n",
       "      <th>10495</th>\n",
       "      <td>u15442</td>\n",
       "      <td>18/11/14 7:39</td>\n",
       "      <td>18/11/14 7:42</td>\n",
       "      <td>A00002/B00002/C00007/D06407/;A00002/B00002/C00007/D06409/</td>\n",
       "      <td>female</td>\n",
       "    </tr>\n",
       "    <tr>\n",
       "      <th>10496</th>\n",
       "      <td>u17986</td>\n",
       "      <td>25/11/14 15:16</td>\n",
       "      <td>25/11/14 15:16</td>\n",
       "      <td>A00006/B00030/C00334/D11660/</td>\n",
       "      <td>female</td>\n",
       "    </tr>\n",
       "    <tr>\n",
       "      <th>10497</th>\n",
       "      <td>u22508</td>\n",
       "      <td>09/12/14 10:11</td>\n",
       "      <td>09/12/14 10:11</td>\n",
       "      <td>A00002/B00002/C00007/D18028/</td>\n",
       "      <td>female</td>\n",
       "    </tr>\n",
       "    <tr>\n",
       "      <th>10498</th>\n",
       "      <td>u17087</td>\n",
       "      <td>22/11/14 11:27</td>\n",
       "      <td>22/11/14 11:27</td>\n",
       "      <td>A00003/B00012/C00131/D09453/;A00003/B00012/C00073/D09454/</td>\n",
       "      <td>female</td>\n",
       "    </tr>\n",
       "    <tr>\n",
       "      <th>10499</th>\n",
       "      <td>u23137</td>\n",
       "      <td>19/12/14 3:11</td>\n",
       "      <td>19/12/14 3:19</td>\n",
       "      <td>A00002/B00001/C00010/D02309/;A00002/B00002/C00002/D32450/;A00002/B00001/C00059/D21254/;A00003/B0...</td>\n",
       "      <td>female</td>\n",
       "    </tr>\n",
       "  </tbody>\n",
       "</table>\n",
       "</div>"
      ],
      "text/plain": [
       "      session_id       startTime         endTime  \\\n",
       "10495     u15442   18/11/14 7:39   18/11/14 7:42   \n",
       "10496     u17986  25/11/14 15:16  25/11/14 15:16   \n",
       "10497     u22508  09/12/14 10:11  09/12/14 10:11   \n",
       "10498     u17087  22/11/14 11:27  22/11/14 11:27   \n",
       "10499     u23137   19/12/14 3:11   19/12/14 3:19   \n",
       "\n",
       "                                                                                               ProductList  \\\n",
       "10495                                            A00002/B00002/C00007/D06407/;A00002/B00002/C00007/D06409/   \n",
       "10496                                                                         A00006/B00030/C00334/D11660/   \n",
       "10497                                                                         A00002/B00002/C00007/D18028/   \n",
       "10498                                            A00003/B00012/C00131/D09453/;A00003/B00012/C00073/D09454/   \n",
       "10499  A00002/B00001/C00010/D02309/;A00002/B00002/C00002/D32450/;A00002/B00001/C00059/D21254/;A00003/B0...   \n",
       "\n",
       "       gender  \n",
       "10495  female  \n",
       "10496  female  \n",
       "10497  female  \n",
       "10498  female  \n",
       "10499  female  "
      ]
     },
     "execution_count": 41,
     "metadata": {},
     "output_type": "execute_result"
    }
   ],
   "source": [
    "df.tail()"
   ]
  },
  {
   "cell_type": "code",
   "execution_count": 42,
   "metadata": {},
   "outputs": [
    {
     "data": {
      "text/plain": [
       "session_id     object\n",
       "startTime      object\n",
       "endTime        object\n",
       "ProductList    object\n",
       "gender         object\n",
       "dtype: object"
      ]
     },
     "execution_count": 42,
     "metadata": {},
     "output_type": "execute_result"
    }
   ],
   "source": [
    "df.dtypes"
   ]
  },
  {
   "cell_type": "code",
   "execution_count": 43,
   "metadata": {},
   "outputs": [
    {
     "data": {
      "text/plain": [
       "(10500, 5)"
      ]
     },
     "execution_count": 43,
     "metadata": {},
     "output_type": "execute_result"
    }
   ],
   "source": [
    "df.shape"
   ]
  },
  {
   "cell_type": "markdown",
   "metadata": {},
   "source": [
    "### Data Cleaning"
   ]
  },
  {
   "cell_type": "code",
   "execution_count": 44,
   "metadata": {},
   "outputs": [],
   "source": [
    "def time2milliseconds(s):\n",
    "    return time.mktime(datetime.datetime.strptime(s, \"%d/%m/%Y  %H:%M\").timetuple())"
   ]
  },
  {
   "cell_type": "code",
   "execution_count": 45,
   "metadata": {},
   "outputs": [],
   "source": [
    "def dateFormat(x):\n",
    "    new_x = \"\"\n",
    "    lst = x.split(\"/\")\n",
    "    \n",
    "    new_x = lst[0]+'/'\n",
    "    new_x = new_x + lst[1]+'/'\n",
    "    new_x = new_x + \"20\"+lst[2]\n",
    "    \n",
    "    return time2milliseconds(new_x)\n",
    "    "
   ]
  },
  {
   "cell_type": "code",
   "execution_count": 46,
   "metadata": {},
   "outputs": [
    {
     "data": {
      "text/plain": [
       "1358660580.0"
      ]
     },
     "execution_count": 46,
     "metadata": {},
     "output_type": "execute_result"
    }
   ],
   "source": [
    "dateFormat(\"20/01/13 11:13\")"
   ]
  },
  {
   "cell_type": "code",
   "execution_count": 47,
   "metadata": {},
   "outputs": [],
   "source": [
    "df['startTimeMillisecond'] = df['startTime'].apply(lambda x:dateFormat(x))"
   ]
  },
  {
   "cell_type": "code",
   "execution_count": 48,
   "metadata": {},
   "outputs": [],
   "source": [
    "df['endTimeMillisecond'] = df['endTime'].apply(lambda x:dateFormat(x))"
   ]
  },
  {
   "cell_type": "code",
   "execution_count": 49,
   "metadata": {},
   "outputs": [],
   "source": [
    "df['totalTime'] = df['startTimeMillisecond'] - df['endTimeMillisecond']"
   ]
  },
  {
   "cell_type": "code",
   "execution_count": 50,
   "metadata": {},
   "outputs": [],
   "source": [
    "s = set()"
   ]
  },
  {
   "cell_type": "code",
   "execution_count": 51,
   "metadata": {},
   "outputs": [],
   "source": [
    "def productListCleaning(x):\n",
    "    lst = x.split(\"/\")\n",
    "    l = []\n",
    "    \n",
    "    for e in lst:\n",
    "        if ';' in e:\n",
    "            l.append(e[1:])\n",
    "            s.add(e)\n",
    "        if e != \"\" and ';' not in e:\n",
    "            l.append(e)\n",
    "            s.add(e)\n",
    "    \n",
    "    return sorted(l)"
   ]
  },
  {
   "cell_type": "code",
   "execution_count": 52,
   "metadata": {},
   "outputs": [],
   "source": [
    "df['cleanedProductList'] = df['ProductList'].apply(lambda x:productListCleaning(x))"
   ]
  },
  {
   "cell_type": "code",
   "execution_count": 53,
   "metadata": {},
   "outputs": [],
   "source": [
    "df_test['cleanedProductList'] = df_test['ProductList'].apply(lambda x:productListCleaning(x))"
   ]
  },
  {
   "cell_type": "code",
   "execution_count": 54,
   "metadata": {},
   "outputs": [
    {
     "data": {
      "text/plain": [
       "0        [A00002, A00002, A00002, A00002, B00003, B00003, B00003, B00003, C00006, C00006, C00006, C00006,...\n",
       "1        [A00001, A00001, A00001, A00001, A00001, A00001, A00001, B00009, B00009, B00009, B00009, B00009,...\n",
       "2                                                                           [A00002, B00001, C00020, D16944]\n",
       "3           [A00002, A00002, A00002, B00004, B00004, B00004, C00018, C00018, C00018, D10284, D10285, D10286]\n",
       "4                                           [A00001, A00001, B00001, B00001, C00012, C00012, D30805, D30806]\n",
       "                                                        ...                                                 \n",
       "10495                                       [A00002, A00002, B00002, B00002, C00007, C00007, D06407, D06409]\n",
       "10496                                                                       [A00006, B00030, C00334, D11660]\n",
       "10497                                                                       [A00002, B00002, C00007, D18028]\n",
       "10498                                       [A00003, A00003, B00012, B00012, C00073, C00131, D09453, D09454]\n",
       "10499    [A00002, A00002, A00002, A00003, B00001, B00001, B00002, B00004, C00002, C00010, C00059, C00089,...\n",
       "Name: cleanedProductList, Length: 10500, dtype: object"
      ]
     },
     "execution_count": 54,
     "metadata": {},
     "output_type": "execute_result"
    }
   ],
   "source": [
    "df['cleanedProductList']"
   ]
  },
  {
   "cell_type": "code",
   "execution_count": 55,
   "metadata": {},
   "outputs": [
    {
     "data": {
      "text/plain": [
       "22371"
      ]
     },
     "execution_count": 55,
     "metadata": {},
     "output_type": "execute_result"
    }
   ],
   "source": [
    "len(s)"
   ]
  },
  {
   "cell_type": "code",
   "execution_count": 56,
   "metadata": {},
   "outputs": [],
   "source": [
    "def productCount(x):\n",
    "    return [len(list(group)) for key, group in groupby(x)]"
   ]
  },
  {
   "cell_type": "code",
   "execution_count": 57,
   "metadata": {},
   "outputs": [],
   "source": [
    "def productCountDict(x):\n",
    "    return dict(collections.Counter(x))"
   ]
  },
  {
   "cell_type": "code",
   "execution_count": 58,
   "metadata": {},
   "outputs": [],
   "source": [
    "df['productCountDict'] = df['cleanedProductList'].apply(lambda x : productCountDict(x))"
   ]
  },
  {
   "cell_type": "code",
   "execution_count": 59,
   "metadata": {},
   "outputs": [],
   "source": [
    "df_test['productCountDict'] = df_test['cleanedProductList'].apply(lambda x : productCountDict(x))"
   ]
  },
  {
   "cell_type": "code",
   "execution_count": 60,
   "metadata": {},
   "outputs": [
    {
     "data": {
      "text/plain": [
       "0            {'A00002': 4, 'B00003': 4, 'C00006': 4, 'D02554': 1, 'D28435': 1, 'D28436': 1, 'D28437': 1}\n",
       "1    {'A00001': 7, 'B00009': 7, 'C00031': 7, 'D02617': 1, 'D25444': 1, 'D29404': 1, 'D29407': 1, 'D29...\n",
       "2                                                   {'A00002': 1, 'B00001': 1, 'C00020': 1, 'D16944': 1}\n",
       "3                         {'A00002': 3, 'B00004': 3, 'C00018': 3, 'D10284': 1, 'D10285': 1, 'D10286': 1}\n",
       "4                                      {'A00001': 2, 'B00001': 2, 'C00012': 2, 'D30805': 1, 'D30806': 1}\n",
       "Name: productCountDict, dtype: object"
      ]
     },
     "execution_count": 60,
     "metadata": {},
     "output_type": "execute_result"
    }
   ],
   "source": [
    "df['productCountDict'].head()"
   ]
  },
  {
   "cell_type": "code",
   "execution_count": 61,
   "metadata": {},
   "outputs": [],
   "source": [
    "lst = list(s)\n",
    "for e in lst:\n",
    "    df[e] = 0"
   ]
  },
  {
   "cell_type": "code",
   "execution_count": 62,
   "metadata": {},
   "outputs": [
    {
     "data": {
      "text/plain": [
       "(10500, 22381)"
      ]
     },
     "execution_count": 62,
     "metadata": {},
     "output_type": "execute_result"
    }
   ],
   "source": [
    "df.shape"
   ]
  },
  {
   "cell_type": "code",
   "execution_count": 63,
   "metadata": {},
   "outputs": [],
   "source": [
    "#df.loc[df['session_id'] == 'u16159', 'A00002'] = 4"
   ]
  },
  {
   "cell_type": "code",
   "execution_count": 67,
   "metadata": {},
   "outputs": [],
   "source": [
    "for session_id,d in zip(df['session_id'], df['productCountDict']): \n",
    "    for key, values in d.items():\n",
    "        df.loc[df['session_id'] == session_id, key] = values"
   ]
  },
  {
   "cell_type": "code",
   "execution_count": 69,
   "metadata": {},
   "outputs": [
    {
     "data": {
      "text/plain": [
       "Index(['session_id', 'startTime', 'endTime', 'ProductList', 'gender',\n",
       "       'startTimeMillisecond', 'endTimeMillisecond', 'totalTime',\n",
       "       'cleanedProductList', 'productCountDict',\n",
       "       ...\n",
       "       'D35920', 'D26395', 'D12243', 'D33542', 'D30598', 'D24618', 'D24475',\n",
       "       'D12684', 'D34208', 'D33662'],\n",
       "      dtype='object', length=22381)"
      ]
     },
     "execution_count": 69,
     "metadata": {},
     "output_type": "execute_result"
    }
   ],
   "source": [
    "df.columns"
   ]
  },
  {
   "cell_type": "code",
   "execution_count": 71,
   "metadata": {},
   "outputs": [],
   "source": [
    "df.drop(columns = ['startTime', 'endTime', 'ProductList', 'productCountDict','cleanedProductList', 'session_id',\n",
    "                  'startTimeMillisecond', 'endTimeMillisecond'],\n",
    "        axis = 1, inplace = True)"
   ]
  },
  {
   "cell_type": "code",
   "execution_count": 72,
   "metadata": {},
   "outputs": [
    {
     "data": {
      "text/plain": [
       "Index(['gender', 'totalTime', 'D32683', 'D30469', 'D35090', 'D01081', 'D28330',\n",
       "       'D28730', 'D32660', 'D19011',\n",
       "       ...\n",
       "       'D35920', 'D26395', 'D12243', 'D33542', 'D30598', 'D24618', 'D24475',\n",
       "       'D12684', 'D34208', 'D33662'],\n",
       "      dtype='object', length=22373)"
      ]
     },
     "execution_count": 72,
     "metadata": {},
     "output_type": "execute_result"
    }
   ],
   "source": [
    "df.columns"
   ]
  },
  {
   "cell_type": "code",
   "execution_count": 73,
   "metadata": {},
   "outputs": [],
   "source": [
    "df['gender'] = df['gender'].map({'male':1,'female':0})"
   ]
  },
  {
   "cell_type": "code",
   "execution_count": 74,
   "metadata": {},
   "outputs": [],
   "source": [
    "X = df.drop(columns = ['gender'], axis = 1)"
   ]
  },
  {
   "cell_type": "code",
   "execution_count": 75,
   "metadata": {},
   "outputs": [],
   "source": [
    "y = df['gender']"
   ]
  },
  {
   "cell_type": "code",
   "execution_count": 76,
   "metadata": {},
   "outputs": [],
   "source": [
    "X_train, X_test, y_train, y_test = train_test_split(X, y, test_size = 0.3, random_state = 1)"
   ]
  },
  {
   "cell_type": "code",
   "execution_count": 77,
   "metadata": {},
   "outputs": [
    {
     "data": {
      "text/plain": [
       "(7350, 22372)"
      ]
     },
     "execution_count": 77,
     "metadata": {},
     "output_type": "execute_result"
    }
   ],
   "source": [
    "X_train.shape"
   ]
  },
  {
   "cell_type": "code",
   "execution_count": 78,
   "metadata": {},
   "outputs": [
    {
     "data": {
      "text/plain": [
       "(3150, 22372)"
      ]
     },
     "execution_count": 78,
     "metadata": {},
     "output_type": "execute_result"
    }
   ],
   "source": [
    "X_test.shape"
   ]
  },
  {
   "cell_type": "code",
   "execution_count": 79,
   "metadata": {},
   "outputs": [
    {
     "data": {
      "text/plain": [
       "(7350,)"
      ]
     },
     "execution_count": 79,
     "metadata": {},
     "output_type": "execute_result"
    }
   ],
   "source": [
    "y_train.shape"
   ]
  },
  {
   "cell_type": "markdown",
   "metadata": {},
   "source": [
    "### Pre-processing data"
   ]
  },
  {
   "cell_type": "code",
   "execution_count": 80,
   "metadata": {},
   "outputs": [],
   "source": [
    "sc = StandardScaler()"
   ]
  },
  {
   "cell_type": "code",
   "execution_count": 81,
   "metadata": {},
   "outputs": [],
   "source": [
    "X_train_std = sc.fit_transform(X_train)"
   ]
  },
  {
   "cell_type": "code",
   "execution_count": 82,
   "metadata": {},
   "outputs": [],
   "source": [
    "X_test_std = sc.transform(X_test)"
   ]
  },
  {
   "cell_type": "markdown",
   "metadata": {},
   "source": [
    "### Models"
   ]
  },
  {
   "cell_type": "markdown",
   "metadata": {},
   "source": [
    "### Logistic Regression"
   ]
  },
  {
   "cell_type": "code",
   "execution_count": 83,
   "metadata": {},
   "outputs": [],
   "source": [
    "lg = LogisticRegression(n_jobs=-1)"
   ]
  },
  {
   "cell_type": "code",
   "execution_count": 84,
   "metadata": {},
   "outputs": [
    {
     "data": {
      "text/plain": [
       "LogisticRegression(C=1.0, class_weight=None, dual=False, fit_intercept=True,\n",
       "                   intercept_scaling=1, l1_ratio=None, max_iter=100,\n",
       "                   multi_class='auto', n_jobs=-1, penalty='l2',\n",
       "                   random_state=None, solver='lbfgs', tol=0.0001, verbose=0,\n",
       "                   warm_start=False)"
      ]
     },
     "execution_count": 84,
     "metadata": {},
     "output_type": "execute_result"
    }
   ],
   "source": [
    "lg.fit(X_train, y_train)"
   ]
  },
  {
   "cell_type": "code",
   "execution_count": 85,
   "metadata": {},
   "outputs": [],
   "source": [
    "y_predict = lg.predict(X_test)"
   ]
  },
  {
   "cell_type": "code",
   "execution_count": 86,
   "metadata": {},
   "outputs": [
    {
     "data": {
      "text/plain": [
       "0.7996825396825397"
      ]
     },
     "execution_count": 86,
     "metadata": {},
     "output_type": "execute_result"
    }
   ],
   "source": [
    "accuracy_score(y_test, y_predict)"
   ]
  },
  {
   "cell_type": "code",
   "execution_count": 87,
   "metadata": {},
   "outputs": [
    {
     "data": {
      "text/plain": [
       "array([[2455,   10],\n",
       "       [ 621,   64]])"
      ]
     },
     "execution_count": 87,
     "metadata": {},
     "output_type": "execute_result"
    }
   ],
   "source": [
    "confusion_matrix(y_test, y_predict)"
   ]
  },
  {
   "cell_type": "code",
   "execution_count": 88,
   "metadata": {},
   "outputs": [
    {
     "data": {
      "text/plain": [
       "0.8648648648648649"
      ]
     },
     "execution_count": 88,
     "metadata": {},
     "output_type": "execute_result"
    }
   ],
   "source": [
    "precision_score(y_test, y_predict)"
   ]
  },
  {
   "cell_type": "code",
   "execution_count": 89,
   "metadata": {},
   "outputs": [
    {
     "data": {
      "text/plain": [
       "0.09343065693430656"
      ]
     },
     "execution_count": 89,
     "metadata": {},
     "output_type": "execute_result"
    }
   ],
   "source": [
    "recall_score(y_test, y_predict)"
   ]
  },
  {
   "cell_type": "code",
   "execution_count": 90,
   "metadata": {},
   "outputs": [
    {
     "data": {
      "text/plain": [
       "0.5446869309012304"
      ]
     },
     "execution_count": 90,
     "metadata": {},
     "output_type": "execute_result"
    }
   ],
   "source": [
    "roc_auc_score(y_test, y_predict)"
   ]
  },
  {
   "cell_type": "markdown",
   "metadata": {},
   "source": [
    "### Logistic Regression CV"
   ]
  },
  {
   "cell_type": "code",
   "execution_count": 91,
   "metadata": {},
   "outputs": [],
   "source": [
    "lg_cv = LogisticRegressionCV(n_jobs=-1)\n",
    "lg_cv.fit(X_train, y_train)\n",
    "y_predict = lg_cv.predict(X_test)"
   ]
  },
  {
   "cell_type": "code",
   "execution_count": 92,
   "metadata": {},
   "outputs": [
    {
     "data": {
      "text/plain": [
       "0.8187301587301588"
      ]
     },
     "execution_count": 92,
     "metadata": {},
     "output_type": "execute_result"
    }
   ],
   "source": [
    "accuracy_score(y_test, y_predict)"
   ]
  },
  {
   "cell_type": "code",
   "execution_count": 93,
   "metadata": {},
   "outputs": [
    {
     "name": "stdout",
     "output_type": "stream",
     "text": [
      "Confusion matrix is --  [[2438   27]\n",
      " [ 544  141]]\n",
      "Presion score is --  0.8392857142857143\n",
      "Recall score is --  0.20583941605839415\n",
      "ROC_AUC score is --  0.5974430346012051\n"
     ]
    }
   ],
   "source": [
    "print(\"Confusion matrix is -- \",confusion_matrix(y_test, y_predict))\n",
    "print(\"Presion score is -- \",precision_score(y_test, y_predict))\n",
    "\n",
    "print(\"Recall score is -- \",recall_score(y_test, y_predict))\n",
    "print(\"ROC_AUC score is -- \",roc_auc_score(y_test, y_predict))\n"
   ]
  },
  {
   "cell_type": "markdown",
   "metadata": {},
   "source": [
    "### Randomforest classifier"
   ]
  },
  {
   "cell_type": "code",
   "execution_count": 94,
   "metadata": {},
   "outputs": [
    {
     "data": {
      "text/plain": [
       "RandomForestClassifier(bootstrap=True, ccp_alpha=0.0, class_weight=None,\n",
       "                       criterion='gini', max_depth=None, max_features='auto',\n",
       "                       max_leaf_nodes=None, max_samples=None,\n",
       "                       min_impurity_decrease=0.0, min_impurity_split=None,\n",
       "                       min_samples_leaf=1, min_samples_split=2,\n",
       "                       min_weight_fraction_leaf=0.0, n_estimators=100,\n",
       "                       n_jobs=-1, oob_score=False, random_state=None, verbose=0,\n",
       "                       warm_start=False)"
      ]
     },
     "execution_count": 94,
     "metadata": {},
     "output_type": "execute_result"
    }
   ],
   "source": [
    "rf = RandomForestClassifier(n_jobs=-1)\n",
    "rf.fit(X_train, y_train)"
   ]
  },
  {
   "cell_type": "code",
   "execution_count": 95,
   "metadata": {},
   "outputs": [],
   "source": [
    "y_predict = rf.predict(X_test)"
   ]
  },
  {
   "cell_type": "code",
   "execution_count": 96,
   "metadata": {},
   "outputs": [
    {
     "data": {
      "text/plain": [
       "0.8815873015873016"
      ]
     },
     "execution_count": 96,
     "metadata": {},
     "output_type": "execute_result"
    }
   ],
   "source": [
    "accuracy_score(y_test, y_predict)"
   ]
  },
  {
   "cell_type": "code",
   "execution_count": 97,
   "metadata": {},
   "outputs": [
    {
     "name": "stdout",
     "output_type": "stream",
     "text": [
      "Confusion matrix is --  [[2360  105]\n",
      " [ 268  417]]\n",
      "Presion score is --  0.7988505747126436\n",
      "Recall score is --  0.6087591240875913\n",
      "ROC_AUC score is --  0.783081387601605\n"
     ]
    }
   ],
   "source": [
    "print(\"Confusion matrix is -- \",confusion_matrix(y_test, y_predict))\n",
    "print(\"Presion score is -- \",precision_score(y_test, y_predict))\n",
    "\n",
    "print(\"Recall score is -- \",recall_score(y_test, y_predict))\n",
    "print(\"ROC_AUC score is -- \",roc_auc_score(y_test, y_predict))\n"
   ]
  },
  {
   "cell_type": "code",
   "execution_count": 132,
   "metadata": {},
   "outputs": [],
   "source": [
    "### XGB"
   ]
  },
  {
   "cell_type": "code",
   "execution_count": 133,
   "metadata": {},
   "outputs": [],
   "source": [
    "param = {'max_depth': 2, 'eta': 1, 'objective': 'binary:logistic'}"
   ]
  },
  {
   "cell_type": "code",
   "execution_count": 137,
   "metadata": {},
   "outputs": [
    {
     "data": {
      "text/plain": [
       "XGBClassifier(base_score=0.5, booster='gbtree', colsample_bylevel=1,\n",
       "              colsample_bynode=1, colsample_bytree=1, gamma=0,\n",
       "              learning_rate=0.1, max_delta_step=0, max_depth=3,\n",
       "              min_child_weight=1, missing=None, n_estimators=100, n_jobs=-1,\n",
       "              nthread=None, objective='binary:logistic', random_state=0,\n",
       "              reg_alpha=0, reg_lambda=1, scale_pos_weight=1, seed=None,\n",
       "              silent=None, subsample=1, verbosity=1)"
      ]
     },
     "execution_count": 137,
     "metadata": {},
     "output_type": "execute_result"
    }
   ],
   "source": [
    "XGB = XGBClassifier(n_jobs=-1)\n",
    "XGB.fit(X_train, y_train)"
   ]
  },
  {
   "cell_type": "code",
   "execution_count": 138,
   "metadata": {},
   "outputs": [],
   "source": [
    "y_predict = XGB.predict(X_test)"
   ]
  },
  {
   "cell_type": "code",
   "execution_count": 139,
   "metadata": {},
   "outputs": [
    {
     "name": "stdout",
     "output_type": "stream",
     "text": [
      "Confusion matrix is --  [[2351  114]\n",
      " [ 276  409]]\n",
      "Presion score is --  0.7820267686424475\n",
      "Recall score is --  0.5970802919708029\n",
      "ROC_AUC score is --  0.7754164137338801\n"
     ]
    }
   ],
   "source": [
    "print(\"Confusion matrix is -- \",confusion_matrix(y_test, y_predict))\n",
    "print(\"Presion score is -- \",precision_score(y_test, y_predict))\n",
    "print(\"Recall score is -- \",recall_score(y_test, y_predict))\n",
    "print(\"ROC_AUC score is -- \",roc_auc_score(y_test, y_predict))"
   ]
  },
  {
   "cell_type": "markdown",
   "metadata": {},
   "source": [
    "### RandomForest using cross validation"
   ]
  },
  {
   "cell_type": "code",
   "execution_count": 140,
   "metadata": {},
   "outputs": [],
   "source": [
    "n_estimators = [int(x) for x in np.linspace(start = 200, stop = 2000, num = 10)]\n",
    "max_features = ['auto', 'sqrt']\n",
    "max_depth = [int(x) for x in np.linspace(10, 110, num = 11)]\n",
    "max_depth.append(None)\n",
    "min_samples_split = [2, 5, 10]\n",
    "min_samples_leaf = [1, 2, 4]\n",
    "bootstrap = [True, False]\n"
   ]
  },
  {
   "cell_type": "code",
   "execution_count": 141,
   "metadata": {},
   "outputs": [],
   "source": [
    "random_grid = {'n_estimators': n_estimators,\n",
    "               'max_features': max_features,\n",
    "               'max_depth': max_depth,\n",
    "               'min_samples_split': min_samples_split,\n",
    "               'min_samples_leaf': min_samples_leaf,\n",
    "               'bootstrap': bootstrap}"
   ]
  },
  {
   "cell_type": "code",
   "execution_count": 142,
   "metadata": {},
   "outputs": [],
   "source": [
    "rf = RandomForestClassifier()"
   ]
  },
  {
   "cell_type": "code",
   "execution_count": 143,
   "metadata": {},
   "outputs": [],
   "source": [
    "rf_random = RandomizedSearchCV(estimator = rf, param_distributions = random_grid, n_iter = 50, cv = 3, \n",
    "                               verbose=1, random_state=42, n_jobs = -1)"
   ]
  },
  {
   "cell_type": "code",
   "execution_count": 144,
   "metadata": {},
   "outputs": [
    {
     "name": "stdout",
     "output_type": "stream",
     "text": [
      "Fitting 3 folds for each of 50 candidates, totalling 150 fits\n"
     ]
    },
    {
     "name": "stderr",
     "output_type": "stream",
     "text": [
      "[Parallel(n_jobs=-1)]: Using backend LokyBackend with 12 concurrent workers.\n",
      "[Parallel(n_jobs=-1)]: Done  26 tasks      | elapsed:  6.1min\n",
      "[Parallel(n_jobs=-1)]: Done 150 out of 150 | elapsed: 46.2min finished\n"
     ]
    },
    {
     "data": {
      "text/plain": [
       "RandomizedSearchCV(cv=3, error_score=nan,\n",
       "                   estimator=RandomForestClassifier(bootstrap=True,\n",
       "                                                    ccp_alpha=0.0,\n",
       "                                                    class_weight=None,\n",
       "                                                    criterion='gini',\n",
       "                                                    max_depth=None,\n",
       "                                                    max_features='auto',\n",
       "                                                    max_leaf_nodes=None,\n",
       "                                                    max_samples=None,\n",
       "                                                    min_impurity_decrease=0.0,\n",
       "                                                    min_impurity_split=None,\n",
       "                                                    min_samples_leaf=1,\n",
       "                                                    min_samples_split=2,\n",
       "                                                    min_weight_fraction_leaf=0.0,\n",
       "                                                    n_estimators=100,\n",
       "                                                    n_jobs...\n",
       "                   param_distributions={'bootstrap': [True, False],\n",
       "                                        'max_depth': [10, 20, 30, 40, 50, 60,\n",
       "                                                      70, 80, 90, 100, 110,\n",
       "                                                      None],\n",
       "                                        'max_features': ['auto', 'sqrt'],\n",
       "                                        'min_samples_leaf': [1, 2, 4],\n",
       "                                        'min_samples_split': [2, 5, 10],\n",
       "                                        'n_estimators': [200, 400, 600, 800,\n",
       "                                                         1000, 1200, 1400, 1600,\n",
       "                                                         1800, 2000]},\n",
       "                   pre_dispatch='2*n_jobs', random_state=42, refit=True,\n",
       "                   return_train_score=False, scoring=None, verbose=1)"
      ]
     },
     "execution_count": 144,
     "metadata": {},
     "output_type": "execute_result"
    }
   ],
   "source": [
    "rf_random.fit(X_train, y_train)"
   ]
  },
  {
   "cell_type": "code",
   "execution_count": 145,
   "metadata": {},
   "outputs": [],
   "source": [
    "y_predict = rf_random.predict(X_test)"
   ]
  },
  {
   "cell_type": "code",
   "execution_count": 146,
   "metadata": {},
   "outputs": [
    {
     "data": {
      "text/plain": [
       "0.8857142857142857"
      ]
     },
     "execution_count": 146,
     "metadata": {},
     "output_type": "execute_result"
    }
   ],
   "source": [
    "accuracy_score(y_test, y_predict)"
   ]
  },
  {
   "cell_type": "code",
   "execution_count": 147,
   "metadata": {},
   "outputs": [
    {
     "name": "stdout",
     "output_type": "stream",
     "text": [
      "Confusion matrix is --  [[2373   92]\n",
      " [ 268  417]]\n",
      "Presion score is --  0.8192534381139489\n",
      "Recall score is --  0.6087591240875913\n",
      "ROC_AUC score is --  0.7857183044373048\n"
     ]
    }
   ],
   "source": [
    "print(\"Confusion matrix is -- \",confusion_matrix(y_test, y_predict))\n",
    "print(\"Presion score is -- \",precision_score(y_test, y_predict))\n",
    "print(\"Recall score is -- \",recall_score(y_test, y_predict))\n",
    "print(\"ROC_AUC score is -- \",roc_auc_score(y_test, y_predict))"
   ]
  },
  {
   "cell_type": "markdown",
   "metadata": {},
   "source": [
    "### Test Data"
   ]
  },
  {
   "cell_type": "code",
   "execution_count": 98,
   "metadata": {},
   "outputs": [
    {
     "data": {
      "text/html": [
       "<div>\n",
       "<style scoped>\n",
       "    .dataframe tbody tr th:only-of-type {\n",
       "        vertical-align: middle;\n",
       "    }\n",
       "\n",
       "    .dataframe tbody tr th {\n",
       "        vertical-align: top;\n",
       "    }\n",
       "\n",
       "    .dataframe thead th {\n",
       "        text-align: right;\n",
       "    }\n",
       "</style>\n",
       "<table border=\"1\" class=\"dataframe\">\n",
       "  <thead>\n",
       "    <tr style=\"text-align: right;\">\n",
       "      <th></th>\n",
       "      <th>session_id</th>\n",
       "      <th>startTime</th>\n",
       "      <th>endTime</th>\n",
       "      <th>ProductList</th>\n",
       "      <th>cleanedProductList</th>\n",
       "      <th>productCountDict</th>\n",
       "    </tr>\n",
       "  </thead>\n",
       "  <tbody>\n",
       "    <tr>\n",
       "      <th>0</th>\n",
       "      <td>u12112</td>\n",
       "      <td>08/12/14 13:36</td>\n",
       "      <td>08/12/14 13:36</td>\n",
       "      <td>A00002/B00003/C00006/D19956/</td>\n",
       "      <td>[A00002, B00003, C00006, D19956]</td>\n",
       "      <td>{'A00002': 1, 'B00003': 1, 'C00006': 1, 'D19956': 1}</td>\n",
       "    </tr>\n",
       "    <tr>\n",
       "      <th>1</th>\n",
       "      <td>u19725</td>\n",
       "      <td>19/12/14 13:52</td>\n",
       "      <td>19/12/14 13:52</td>\n",
       "      <td>A00002/B00005/C00067/D02026/</td>\n",
       "      <td>[A00002, B00005, C00067, D02026]</td>\n",
       "      <td>{'A00002': 1, 'B00005': 1, 'C00067': 1, 'D02026': 1}</td>\n",
       "    </tr>\n",
       "    <tr>\n",
       "      <th>2</th>\n",
       "      <td>u11795</td>\n",
       "      <td>01/12/14 10:44</td>\n",
       "      <td>01/12/14 10:44</td>\n",
       "      <td>A00002/B00002/C00004/D12538/</td>\n",
       "      <td>[A00002, B00002, C00004, D12538]</td>\n",
       "      <td>{'A00002': 1, 'B00002': 1, 'C00004': 1, 'D12538': 1}</td>\n",
       "    </tr>\n",
       "    <tr>\n",
       "      <th>3</th>\n",
       "      <td>u22639</td>\n",
       "      <td>08/12/14 20:19</td>\n",
       "      <td>08/12/14 20:22</td>\n",
       "      <td>A00002/B00003/C00079/D22781/;A00002/B00003/C00079/D22782/;A00002/B00003/C00079/D19325/;A00002/B0...</td>\n",
       "      <td>[A00002, A00002, A00002, A00002, B00003, B00003, B00003, B00003, C00079, C00079, C00079, C00079,...</td>\n",
       "      <td>{'A00002': 4, 'B00003': 4, 'C00079': 4, 'D19325': 1, 'D22781': 1, 'D22782': 1, 'D22786': 1}</td>\n",
       "    </tr>\n",
       "    <tr>\n",
       "      <th>4</th>\n",
       "      <td>u18034</td>\n",
       "      <td>15/12/14 19:33</td>\n",
       "      <td>15/12/14 19:33</td>\n",
       "      <td>A00002/B00001/C00010/D23419/</td>\n",
       "      <td>[A00002, B00001, C00010, D23419]</td>\n",
       "      <td>{'A00002': 1, 'B00001': 1, 'C00010': 1, 'D23419': 1}</td>\n",
       "    </tr>\n",
       "  </tbody>\n",
       "</table>\n",
       "</div>"
      ],
      "text/plain": [
       "  session_id       startTime         endTime  \\\n",
       "0     u12112  08/12/14 13:36  08/12/14 13:36   \n",
       "1     u19725  19/12/14 13:52  19/12/14 13:52   \n",
       "2     u11795  01/12/14 10:44  01/12/14 10:44   \n",
       "3     u22639  08/12/14 20:19  08/12/14 20:22   \n",
       "4     u18034  15/12/14 19:33  15/12/14 19:33   \n",
       "\n",
       "                                                                                           ProductList  \\\n",
       "0                                                                         A00002/B00003/C00006/D19956/   \n",
       "1                                                                         A00002/B00005/C00067/D02026/   \n",
       "2                                                                         A00002/B00002/C00004/D12538/   \n",
       "3  A00002/B00003/C00079/D22781/;A00002/B00003/C00079/D22782/;A00002/B00003/C00079/D19325/;A00002/B0...   \n",
       "4                                                                         A00002/B00001/C00010/D23419/   \n",
       "\n",
       "                                                                                    cleanedProductList  \\\n",
       "0                                                                     [A00002, B00003, C00006, D19956]   \n",
       "1                                                                     [A00002, B00005, C00067, D02026]   \n",
       "2                                                                     [A00002, B00002, C00004, D12538]   \n",
       "3  [A00002, A00002, A00002, A00002, B00003, B00003, B00003, B00003, C00079, C00079, C00079, C00079,...   \n",
       "4                                                                     [A00002, B00001, C00010, D23419]   \n",
       "\n",
       "                                                                              productCountDict  \n",
       "0                                         {'A00002': 1, 'B00003': 1, 'C00006': 1, 'D19956': 1}  \n",
       "1                                         {'A00002': 1, 'B00005': 1, 'C00067': 1, 'D02026': 1}  \n",
       "2                                         {'A00002': 1, 'B00002': 1, 'C00004': 1, 'D12538': 1}  \n",
       "3  {'A00002': 4, 'B00003': 4, 'C00079': 4, 'D19325': 1, 'D22781': 1, 'D22782': 1, 'D22786': 1}  \n",
       "4                                         {'A00002': 1, 'B00001': 1, 'C00010': 1, 'D23419': 1}  "
      ]
     },
     "execution_count": 98,
     "metadata": {},
     "output_type": "execute_result"
    }
   ],
   "source": [
    "df_test.head()"
   ]
  },
  {
   "cell_type": "code",
   "execution_count": 99,
   "metadata": {},
   "outputs": [
    {
     "data": {
      "text/plain": [
       "session_id            0\n",
       "startTime             0\n",
       "endTime               0\n",
       "ProductList           0\n",
       "cleanedProductList    0\n",
       "productCountDict      0\n",
       "dtype: int64"
      ]
     },
     "execution_count": 99,
     "metadata": {},
     "output_type": "execute_result"
    }
   ],
   "source": [
    "df_test.isnull().sum()"
   ]
  },
  {
   "cell_type": "code",
   "execution_count": 100,
   "metadata": {},
   "outputs": [],
   "source": [
    "df_test['startTimeMillisecond'] = df_test['startTime'].apply(lambda x:dateFormat(x))"
   ]
  },
  {
   "cell_type": "code",
   "execution_count": 101,
   "metadata": {},
   "outputs": [],
   "source": [
    "df_test['endTimeMillisecond'] = df_test['endTime'].apply(lambda x:dateFormat(x))"
   ]
  },
  {
   "cell_type": "code",
   "execution_count": 102,
   "metadata": {},
   "outputs": [],
   "source": [
    "df_test['cleanedProductList'] = df_test['ProductList'].apply(lambda x:productListCleaning(x))"
   ]
  },
  {
   "cell_type": "code",
   "execution_count": 103,
   "metadata": {},
   "outputs": [],
   "source": [
    "df_test['productCountDict'] = df_test['cleanedProductList'].apply(lambda x : productCountDict(x))"
   ]
  },
  {
   "cell_type": "code",
   "execution_count": 104,
   "metadata": {},
   "outputs": [],
   "source": [
    "df_test['totalTime'] = df_test['startTimeMillisecond'] - df_test['endTimeMillisecond']"
   ]
  },
  {
   "cell_type": "code",
   "execution_count": 105,
   "metadata": {},
   "outputs": [],
   "source": [
    "sesson_id = df_test['session_id']"
   ]
  },
  {
   "cell_type": "code",
   "execution_count": 106,
   "metadata": {},
   "outputs": [],
   "source": [
    "lst = list(s)\n",
    "for e in lst:\n",
    "    df_test[e] = 0"
   ]
  },
  {
   "cell_type": "code",
   "execution_count": 107,
   "metadata": {},
   "outputs": [],
   "source": [
    "for session_id,d in zip(df_test['session_id'], df_test['productCountDict']): \n",
    "    for key, values in d.items():\n",
    "        df_test.loc[df_test['session_id'] == session_id, key] = values"
   ]
  },
  {
   "cell_type": "code",
   "execution_count": 108,
   "metadata": {},
   "outputs": [
    {
     "data": {
      "text/plain": [
       "Index(['session_id', 'startTime', 'endTime', 'ProductList',\n",
       "       'cleanedProductList', 'productCountDict', 'startTimeMillisecond',\n",
       "       'endTimeMillisecond', 'totalTime', 'D32683',\n",
       "       ...\n",
       "       'D35920', 'D26395', 'D12243', 'D33542', 'D30598', 'D24618', 'D24475',\n",
       "       'D12684', 'D34208', 'D33662'],\n",
       "      dtype='object', length=22380)"
      ]
     },
     "execution_count": 108,
     "metadata": {},
     "output_type": "execute_result"
    }
   ],
   "source": [
    "df_test.columns"
   ]
  },
  {
   "cell_type": "code",
   "execution_count": 109,
   "metadata": {},
   "outputs": [],
   "source": [
    "df_test.drop(columns = ['startTime', 'endTime', 'ProductList', 'productCountDict','cleanedProductList', 'session_id',\n",
    "                  'startTimeMillisecond', 'endTimeMillisecond'],\n",
    "        axis = 1, inplace = True)"
   ]
  },
  {
   "cell_type": "code",
   "execution_count": 110,
   "metadata": {},
   "outputs": [
    {
     "data": {
      "text/plain": [
       "Index(['totalTime', 'D32683', 'D30469', 'D35090', 'D01081', 'D28330', 'D28730',\n",
       "       'D32660', 'D19011', 'D01351',\n",
       "       ...\n",
       "       'D35920', 'D26395', 'D12243', 'D33542', 'D30598', 'D24618', 'D24475',\n",
       "       'D12684', 'D34208', 'D33662'],\n",
       "      dtype='object', length=22372)"
      ]
     },
     "execution_count": 110,
     "metadata": {},
     "output_type": "execute_result"
    }
   ],
   "source": [
    "df_test.columns"
   ]
  },
  {
   "cell_type": "code",
   "execution_count": 148,
   "metadata": {},
   "outputs": [],
   "source": [
    "y_predict = rf_random.predict(df_test)"
   ]
  },
  {
   "cell_type": "code",
   "execution_count": 149,
   "metadata": {},
   "outputs": [],
   "source": [
    "submit_df = pd.DataFrame()"
   ]
  },
  {
   "cell_type": "code",
   "execution_count": 150,
   "metadata": {},
   "outputs": [],
   "source": [
    "submit_df['session_id'] = sesson_id"
   ]
  },
  {
   "cell_type": "code",
   "execution_count": 151,
   "metadata": {},
   "outputs": [],
   "source": [
    "submit_df['gender'] = y_predict"
   ]
  },
  {
   "cell_type": "code",
   "execution_count": 152,
   "metadata": {},
   "outputs": [],
   "source": [
    "submit_df['gender'] = submit_df['gender'].map({0:'female',1:'male'})"
   ]
  },
  {
   "cell_type": "code",
   "execution_count": 153,
   "metadata": {},
   "outputs": [],
   "source": [
    "submit_df.to_csv('submission.csv', index=False)"
   ]
  },
  {
   "cell_type": "code",
   "execution_count": null,
   "metadata": {},
   "outputs": [],
   "source": []
  }
 ],
 "metadata": {
  "kernelspec": {
   "display_name": "Python 3",
   "language": "python",
   "name": "python3"
  },
  "language_info": {
   "codemirror_mode": {
    "name": "ipython",
    "version": 3
   },
   "file_extension": ".py",
   "mimetype": "text/x-python",
   "name": "python",
   "nbconvert_exporter": "python",
   "pygments_lexer": "ipython3",
   "version": "3.7.6"
  }
 },
 "nbformat": 4,
 "nbformat_minor": 4
}
